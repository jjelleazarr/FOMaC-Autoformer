{
 "cells": [
  {
   "cell_type": "markdown",
   "id": "34b381a5",
   "metadata": {},
   "source": [
    "</br>\n",
    "<h1 align=\"center\" style=\"color:green\">Preprocessing on Meteorological & Dengue Dataset in the City of Manila</br> DOST-Pagasa Port Area Dataset & DOH City of Manila Dengue Dataset</h1>\n",
    "<div style=\"text-align:center\">Prepared by <b>Jose Rafael C Crisostomo, Jan Vincent G. Elleazar, Dodge Deiniol D. Lapis, and Carl Jacob F. Mateo</b><br>\n",
    "FOMaC-Autoformer: A Hybrid First Order Markov Chain-Autoformer Model for Dengue Incidence Forecasting in the City of Manila<br>\n",
    "<b>University of Santo Tomas - College of Information and Computing Sciences</b>\n",
    "</div>"
   ]
  },
  {
   "cell_type": "markdown",
   "id": "edff0153",
   "metadata": {},
   "source": [
    "We will implement the following data preprocessing: Data Integration/Alignment, Data Cleaning, and Normalization.\n",
    "***"
   ]
  },
  {
   "cell_type": "markdown",
   "id": "097e08d4",
   "metadata": {},
   "source": [
    "# Data Integration\n"
   ]
  },
  {
   "cell_type": "code",
   "execution_count": null,
   "id": "b003b613",
   "metadata": {},
   "outputs": [],
   "source": [
    "# Data Integration"
   ]
  },
  {
   "cell_type": "markdown",
   "id": "4944c476",
   "metadata": {},
   "source": [
    "***\n",
    "# Data Cleaning"
   ]
  },
  {
   "cell_type": "code",
   "execution_count": null,
   "id": "1e2e10a5",
   "metadata": {},
   "outputs": [],
   "source": [
    "# Data Cleaning"
   ]
  },
  {
   "cell_type": "markdown",
   "id": "797fb0fc",
   "metadata": {},
   "source": [
    "***\n",
    "# Data Normalization"
   ]
  },
  {
   "cell_type": "code",
   "execution_count": null,
   "id": "5ca300d6",
   "metadata": {},
   "outputs": [],
   "source": [
    "# Data Normalization"
   ]
  }
 ],
 "metadata": {
  "kernelspec": {
   "display_name": "Python 3",
   "language": "python",
   "name": "python3"
  },
  "language_info": {
   "name": "python",
   "version": "3.9.6"
  }
 },
 "nbformat": 4,
 "nbformat_minor": 5
}
