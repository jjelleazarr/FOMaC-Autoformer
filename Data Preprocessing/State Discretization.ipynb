{
 "cells": [
  {
   "cell_type": "markdown",
   "id": "36b9aebe",
   "metadata": {},
   "source": [
    "</br>\n",
    "<h1 align=\"center\" style=\"color:green\">State Discretization on Dengue Dataset in the City of Manila</br>DOH City of Manila Dengue Dataset</h1>\n",
    "<div style=\"text-align:center\">Prepared by <b>Jose Rafael C Crisostomo, Jan Vincent G. Elleazar, Dodge Deiniol D. Lapis, and Carl Jacob F. Mateo</b><br>\n",
    "FOMaC-Autoformer: A Hybrid First Order Markov Chain-Autoformer Model for Dengue Incidence Forecasting in the City of Manila<br>\n",
    "<b>University of Santo Tomas - College of Information and Computing Sciences</b>\n",
    "</div>"
   ]
  },
  {
   "cell_type": "markdown",
   "id": "7630e8f1",
   "metadata": {},
   "source": [
    "We will convert dengue cases into bins/states using thresholds. This will be converted into categorical states which allows the First-Order Markov Chain model to be capable of having probabilistic forecast of dengue states.\n",
    "***"
   ]
  },
  {
   "cell_type": "markdown",
   "id": "89b19e67",
   "metadata": {},
   "source": [
    "# State Discretization"
   ]
  },
  {
   "cell_type": "code",
   "execution_count": null,
   "id": "db375550",
   "metadata": {},
   "outputs": [],
   "source": [
    "# Insert code for converiting dengue cases into bins/states using thresholds"
   ]
  }
 ],
 "metadata": {
  "kernelspec": {
   "display_name": "Python 3",
   "language": "python",
   "name": "python3"
  },
  "language_info": {
   "name": "python",
   "version": "3.9.6"
  }
 },
 "nbformat": 4,
 "nbformat_minor": 5
}
