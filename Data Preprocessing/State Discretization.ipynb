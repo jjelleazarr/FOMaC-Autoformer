{
 "cells": [
  {
   "cell_type": "markdown",
   "id": "36b9aebe",
   "metadata": {},
   "source": [
    "</br>\n",
    "<h1 align=\"center\" style=\"color:green\">State Discretization on Dengue Dataset in the City of Manila</br>DOH City of Manila Dengue Dataset</h1>\n",
    "<div style=\"text-align:center\">Prepared by <b>Jose Rafael C Crisostomo, Jan Vincent G. Elleazar, Dodge Deiniol D. Lapis, and Carl Jacob F. Mateo</b><br>\n",
    "FOMaC-Autoformer: A Hybrid First Order Markov Chain-Autoformer Model for Dengue Incidence Forecasting in the City of Manila<br>\n",
    "<b>University of Santo Tomas - College of Information and Computing Sciences</b>\n",
    "</div>"
   ]
  },
  {
   "cell_type": "markdown",
   "id": "7630e8f1",
   "metadata": {},
   "source": [
    "We will convert dengue cases into bins/states using thresholds. This will be converted into categorical states which allows the First-Order Markov Chain model to be capable of having probabilistic forecast of dengue states.\n",
    "***"
   ]
  },
  {
   "cell_type": "markdown",
   "id": "89b19e67",
   "metadata": {},
   "source": [
    "# State Discretization"
   ]
  },
  {
   "cell_type": "code",
   "execution_count": 1,
   "id": "db375550",
   "metadata": {},
   "outputs": [
    {
     "name": "stdout",
     "output_type": "stream",
     "text": [
      "--- State Discretization Complete ---\n",
      "\n",
      "Distribution of Dengue States:\n",
      "state\n",
      "Low       50.579151\n",
      "Medium    25.096525\n",
      "High      24.324324\n",
      "Name: proportion, dtype: float64\n",
      "\n",
      "DataFrame with new 'state' column:\n",
      "        date  cases   state  cases_minmax\n",
      "0 2016-01-10     49  Medium      0.204167\n",
      "1 2016-01-17     47  Medium      0.195833\n",
      "2 2016-01-24     37  Medium      0.154167\n",
      "3 2016-01-31     31     Low      0.129167\n",
      "4 2016-02-07     33     Low      0.137500\n"
     ]
    }
   ],
   "source": [
    "# Import the libraries you already have in your preprocessing file\n",
    "import pandas as pd\n",
    "import numpy as np\n",
    "\n",
    "# 1. Load your final, preprocessed dataset\n",
    "try:\n",
    "    final_data = pd.read_csv('final_dengue_meteorological_data.csv')\n",
    "except FileNotFoundError:\n",
    "    print(\"Error: 'final_dengue_meteorological_data.csv' not found.\")\n",
    "    print(\"Please run your preprocessing script first.\")\n",
    "    # In a real script, you'd exit here\n",
    "    \n",
    "# Make sure 'date' column is a datetime object for proper sorting\n",
    "if 'date' in final_data.columns:\n",
    "    final_data['date'] = pd.to_datetime(final_data['date'])\n",
    "    final_data = final_data.sort_values(by='date').reset_index(drop=True)\n",
    "\n",
    "    # 2. Define the bins and labels based on EDA \n",
    "    # Bins: (-inf to 34], (34 to 75], (75 to +inf]\n",
    "    # We use -np.inf and np.inf to cover all values\n",
    "    bins = [-np.inf, 34, 75, np.inf]\n",
    "    \n",
    "    # Labels for our 3 states\n",
    "    labels = ['Low', 'Medium', 'High']\n",
    "\n",
    "    # 3. Create the new 'state' column\n",
    "    # We use the raw 'cases' column to determine the state\n",
    "    final_data['state'] = pd.cut(final_data['cases'], \n",
    "                                 bins=bins, \n",
    "                                 labels=labels, \n",
    "                                 right=True) # right=True means the bin includes the right edge\n",
    "\n",
    "    # 4. Check the work\n",
    "    print(\"--- State Discretization Complete ---\")\n",
    "    print(\"\\nDistribution of Dengue States:\")\n",
    "    \n",
    "    # Calculate and print the percentage for each state\n",
    "    state_distribution = final_data['state'].value_counts(normalize=True).sort_index()\n",
    "    print(state_distribution * 100)\n",
    "\n",
    "    print(\"\\nDataFrame with new 'state' column:\")\n",
    "    print(final_data[['date', 'cases', 'state', 'cases_minmax']].head())\n",
    "\n",
    "    # 5. Save this new dataframe for the next phase\n",
    "    final_data.to_csv('final_data_with_states.csv', index=False)\n",
    "    \n",
    "else:\n",
    "    print(\"Error: 'date' column not found in the dataset.\")"
   ]
  }
 ],
 "metadata": {
  "kernelspec": {
   "display_name": "Python 3",
   "language": "python",
   "name": "python3"
  },
  "language_info": {
   "codemirror_mode": {
    "name": "ipython",
    "version": 3
   },
   "file_extension": ".py",
   "mimetype": "text/x-python",
   "name": "python",
   "nbconvert_exporter": "python",
   "pygments_lexer": "ipython3",
   "version": "3.9.6"
  }
 },
 "nbformat": 4,
 "nbformat_minor": 5
}
