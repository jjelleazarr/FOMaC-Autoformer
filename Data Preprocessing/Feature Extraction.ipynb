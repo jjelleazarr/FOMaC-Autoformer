{
 "cells": [
  {
   "cell_type": "markdown",
   "id": "c0990a7d",
   "metadata": {},
   "source": [
    "</br>\n",
    "<h1 align=\"center\" style=\"color:green\">Feature Extraction on Meteorological & Dengue Dataset in the City of Manila</br> DOST-Pagasa Port Area Dataset & DOH City of Manila Dengue Dataset</h1>\n",
    "<div style=\"text-align:center\">Prepared by <b>Jose Rafael C Crisostomo, Jan Vincent G. Elleazar, Dodge Deiniol D. Lapis, and Carl Jacob F. Mateo</b><br>\n",
    "FOMaC-Autoformer: A Hybrid First Order Markov Chain-Autoformer Model for Dengue Incidence Forecasting in the City of Manila<br>\n",
    "<b>University of Santo Tomas - College of Information and Computing Sciences</b>\n",
    "</div>"
   ]
  },
  {
   "cell_type": "markdown",
   "id": "c6ad6d86",
   "metadata": {},
   "source": [
    "We will extract all features from both datasets into the following: Temporal Features, Statistical Features, and Composite Features. These will then converted into feature vectors in which allows the Autoformer model to be fed by the right input data.\n",
    "***"
   ]
  },
  {
   "cell_type": "markdown",
   "id": "807619d0",
   "metadata": {},
   "source": [
    "# Temporal Features"
   ]
  },
  {
   "cell_type": "code",
   "execution_count": null,
   "id": "d96bdfe2",
   "metadata": {},
   "outputs": [],
   "source": [
    "# Insert code for extracting temporal features"
   ]
  },
  {
   "cell_type": "markdown",
   "id": "82446a38",
   "metadata": {},
   "source": [
    "***\n",
    "# Statistical Features"
   ]
  },
  {
   "cell_type": "code",
   "execution_count": null,
   "id": "0338de71",
   "metadata": {},
   "outputs": [],
   "source": [
    "# Insert code for extracting statistical features"
   ]
  },
  {
   "cell_type": "markdown",
   "id": "956fbb49",
   "metadata": {},
   "source": [
    "***\n",
    "# Composite Features"
   ]
  },
  {
   "cell_type": "code",
   "execution_count": null,
   "id": "d0e18997",
   "metadata": {},
   "outputs": [],
   "source": [
    "# Insert code for extracting composite features"
   ]
  }
 ],
 "metadata": {
  "kernelspec": {
   "display_name": "Python 3",
   "language": "python",
   "name": "python3"
  },
  "language_info": {
   "name": "python",
   "version": "3.9.6"
  }
 },
 "nbformat": 4,
 "nbformat_minor": 5
}
